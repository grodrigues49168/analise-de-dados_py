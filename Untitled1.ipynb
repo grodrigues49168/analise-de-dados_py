{
 "cells": [
  {
   "cell_type": "markdown",
   "id": "8529d325",
   "metadata": {},
   "source": [
    "principal conceito de POO - objetos\n",
    "\n",
    "para criar (instanciar) um objeto, é preciso uma classe\n",
    "\n",
    "a classe é onde "
   ]
  },
  {
   "cell_type": "code",
   "execution_count": null,
   "id": "f3b48250",
   "metadata": {},
   "outputs": [],
   "source": [
    "#criando uma classe\n",
    "\n",
    "class Nome:\n",
    "    pass"
   ]
  },
  {
   "cell_type": "code",
   "execution_count": null,
   "id": "f41c5042",
   "metadata": {},
   "outputs": [],
   "source": []
  },
  {
   "cell_type": "code",
   "execution_count": null,
   "id": "e1bfcf01",
   "metadata": {},
   "outputs": [],
   "source": []
  }
 ],
 "metadata": {
  "kernelspec": {
   "display_name": "Python 3 (ipykernel)",
   "language": "python",
   "name": "python3"
  },
  "language_info": {
   "codemirror_mode": {
    "name": "ipython",
    "version": 3
   },
   "file_extension": ".py",
   "mimetype": "text/x-python",
   "name": "python",
   "nbconvert_exporter": "python",
   "pygments_lexer": "ipython3",
   "version": "3.10.4"
  }
 },
 "nbformat": 4,
 "nbformat_minor": 5
}
