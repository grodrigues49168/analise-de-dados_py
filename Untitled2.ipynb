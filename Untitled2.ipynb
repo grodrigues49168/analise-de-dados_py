{
 "cells": [
  {
   "cell_type": "code",
   "execution_count": 15,
   "id": "f4cc16b2",
   "metadata": {},
   "outputs": [],
   "source": [
    "class Lampada:\n",
    "    \n",
    "    def __init__(self,codigo,tipo,estado):\n",
    "        self.codigo = codigo\n",
    "        self.tipo = tipo\n",
    "        self.estado = estado"
   ]
  },
  {
   "cell_type": "code",
   "execution_count": 16,
   "id": "2aff8cec",
   "metadata": {},
   "outputs": [],
   "source": [
    "#Instanciar um objeto a partir da classe lampada\n",
    "lampada = Lampada(1, 'Flurescente', 'Apagada')\n"
   ]
  },
  {
   "cell_type": "code",
   "execution_count": 17,
   "id": "c9d837f7",
   "metadata": {},
   "outputs": [],
   "source": [
    "class Lampada:\n",
    "    \n",
    "    def __init__(self):\n",
    "        self.codigo = 123\n",
    "        self.tipo = 'Flurescente'\n",
    "        self.estado = 'Apagada'"
   ]
  },
  {
   "cell_type": "code",
   "execution_count": 18,
   "id": "80866cc2",
   "metadata": {},
   "outputs": [],
   "source": [
    "lampada = Lampada()"
   ]
  },
  {
   "cell_type": "code",
   "execution_count": 41,
   "id": "1dcfd761",
   "metadata": {},
   "outputs": [],
   "source": [
    "#Definindo funções(ações)\n",
    "class Lampada:\n",
    "    \n",
    "    def __init__(self,codigo,tipo,estado):\n",
    "        self.codigo = codigo\n",
    "        self.tipo = tipo\n",
    "        self.estado = estado\n",
    "        \n",
    "    def acender(self):\n",
    "        self.estado = 'Acesa'\n",
    "    def apagar(self):\n",
    "        self.estado = 'Apagada'"
   ]
  },
  {
   "cell_type": "code",
   "execution_count": 42,
   "id": "7a4c75bf",
   "metadata": {},
   "outputs": [
    {
     "name": "stdout",
     "output_type": "stream",
     "text": [
      "Apagada\n",
      "Acesa\n",
      "Apagada\n",
      "Flurescente\n"
     ]
    }
   ],
   "source": [
    "lampada1 = Lampada(1,'Led', 'Apagada')\n",
    "print(lampada1.estado)\n",
    "lampada1.acender()\n",
    "print(lampada1.estado)\n",
    "lampada1.apagar()\n",
    "print(lampada1.estado)\n",
    "print(lampada.tipo)"
   ]
  },
  {
   "cell_type": "code",
   "execution_count": 45,
   "id": "00c3276a",
   "metadata": {},
   "outputs": [],
   "source": [
    "#Definindo funções(ações)com construtor vazio\n",
    "class Lampada:\n",
    "    \n",
    "    def __init__(self):\n",
    "        self.codigo = 0\n",
    "        self.tipo = ''\n",
    "        self.estado =  ''\n",
    "        \n",
    "    def acender(self):\n",
    "        self.estado = 'Acesa'\n",
    "    def apagar(self):\n",
    "        self.estado = 'Apagada'"
   ]
  },
  {
   "cell_type": "code",
   "execution_count": 46,
   "id": "83f5853f",
   "metadata": {},
   "outputs": [
    {
     "name": "stdout",
     "output_type": "stream",
     "text": [
      "Apagada\n",
      "Acesa\n"
     ]
    }
   ],
   "source": [
    "lampada2 = Lampada()\n",
    "lampada2.codigo = 2\n",
    "lampada2.tipo = 'Led'\n",
    "lampada2.estado = 'Apagada'\n",
    "print(lampada2.estado)\n",
    "lampada2.acender()\n",
    "print(lampada2.estado)"
   ]
  },
  {
   "cell_type": "code",
   "execution_count": 47,
   "id": "c2c0da36",
   "metadata": {},
   "outputs": [
    {
     "name": "stdout",
     "output_type": "stream",
     "text": [
      "<__main__.Lampada object at 0x00000295F6F468F0>\n"
     ]
    }
   ],
   "source": [
    "'''\n",
    "se tentar imprimir diretamente o objeto \n",
    "o programa exibirá o endereço de memoria\n",
    "\n",
    "Obs: Não é erro, executa normalmente\n",
    "'''\n",
    "print(lampada2)"
   ]
  },
  {
   "cell_type": "code",
   "execution_count": null,
   "id": "55675013",
   "metadata": {},
   "outputs": [],
   "source": [
    "'''\n",
    "para mudar o que aparece quando imprime\n",
    "diretamente o objeto, se usa a função\n",
    "especial __str__\n",
    "'''\n",
    "\n"
   ]
  },
  {
   "cell_type": "code",
   "execution_count": 52,
   "id": "cfa0d0f7",
   "metadata": {},
   "outputs": [],
   "source": [
    "class Lampada:\n",
    "    \n",
    "    def __init__(self):\n",
    "        self.codigo = 0\n",
    "        self.tipo = ''\n",
    "        self.estado =  ''\n",
    "        \n",
    "    def acender(self):\n",
    "        self.estado = 'Acesa'\n",
    "    def apagar(self):\n",
    "        self.estado = 'Apagada'\n",
    "    def __str__(self):\n",
    "        return 'Lampada tipo: '+self.tipo"
   ]
  },
  {
   "cell_type": "code",
   "execution_count": 53,
   "id": "2561e190",
   "metadata": {},
   "outputs": [
    {
     "name": "stdout",
     "output_type": "stream",
     "text": [
      "Lampada tipo: Led\n"
     ]
    }
   ],
   "source": [
    "lampada2 = Lampada()\n",
    "lampada2.codigo = 2\n",
    "lampada2.tipo = 'Led'\n",
    "lampada2.estado = 'Apagada'\n",
    "print(lampada2)"
   ]
  },
  {
   "cell_type": "code",
   "execution_count": 55,
   "id": "244ab0a4",
   "metadata": {},
   "outputs": [
    {
     "name": "stdout",
     "output_type": "stream",
     "text": [
      "digite o codigo1\n",
      "Digite o tipoled\n",
      "1\n",
      "led\n",
      "Apagada\n"
     ]
    }
   ],
   "source": [
    "lampada4 = Lampada()\n",
    "lampada4.codigo = int(input('digite o codigo'))\n",
    "lampada4.tipo = input('Digite o tipo')\n",
    "lampada4.estado = 'Apagada'\n",
    "print(lampada4.codigo)\n",
    "print(lampada4.tipo)\n",
    "print(lampada4.estado)"
   ]
  },
  {
   "cell_type": "code",
   "execution_count": null,
   "id": "6bb8fbf4",
   "metadata": {},
   "outputs": [],
   "source": []
  }
 ],
 "metadata": {
  "kernelspec": {
   "display_name": "Python 3 (ipykernel)",
   "language": "python",
   "name": "python3"
  },
  "language_info": {
   "codemirror_mode": {
    "name": "ipython",
    "version": 3
   },
   "file_extension": ".py",
   "mimetype": "text/x-python",
   "name": "python",
   "nbconvert_exporter": "python",
   "pygments_lexer": "ipython3",
   "version": "3.10.4"
  }
 },
 "nbformat": 4,
 "nbformat_minor": 5
}
