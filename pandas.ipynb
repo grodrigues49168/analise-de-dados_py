{
 "cells": [
  {
   "cell_type": "markdown",
   "id": "7728a254",
   "metadata": {},
   "source": [
    "# Pandas"
   ]
  },
  {
   "cell_type": "markdown",
   "id": "76607aa6",
   "metadata": {},
   "source": [
    "site Oficial: https://pandas.pydata.org/\n",
    "\n",
    "comando para instalar: pip install pandas\n",
    "\n",
    " - De forma geral, a biblioteca pandas prepara os dados para analise;\n",
    " - Coverte os daos de um estado \"bruto\" para um estado que permita a análise;\n",
    " - Este processo se chama Data Minig;\n",
    " - Este é o proceeso mais trabalhoso antes da análise;\n",
    " - Tem uma excelente integração com a biblioteca NyumPy e outras;\n",
    " \n",
    " Trabalha Principalmente com 2 conceitos:\n",
    " - Series\n",
    " - Dataframe"
   ]
  },
  {
   "cell_type": "code",
   "execution_count": null,
   "id": "850094b4",
   "metadata": {},
   "outputs": [],
   "source": [
    "#importando a biblioteca Pandas\n",
    "import pandas as pd"
   ]
  },
  {
   "cell_type": "markdown",
   "id": "d132802c",
   "metadata": {},
   "source": [
    "# Series"
   ]
  },
  {
   "cell_type": "markdown",
   "id": "c6576524",
   "metadata": {},
   "source": [
    "Array unidimensional que contem valores/indicies (contém um array de valores e um array de índices);"
   ]
  },
  {
   "cell_type": "code",
   "execution_count": 1,
   "id": "31f21424",
   "metadata": {},
   "outputs": [],
   "source": [
    "import pandas as pd"
   ]
  },
  {
   "cell_type": "code",
   "execution_count": 2,
   "id": "cee7016d",
   "metadata": {},
   "outputs": [],
   "source": [
    "'''\n",
    "A função para criar series é com 'S' maiúsculo;\n",
    "Ela recebé uma lista python e converte para series;\n",
    "É obrigado apenas informar os valores;\n",
    "Quando os Indicies não informados, serão gerados automaticamente.\n",
    "'''\n",
    "series_1 = pd.Series([8, 22, 12, 44])"
   ]
  },
  {
   "cell_type": "code",
   "execution_count": 3,
   "id": "f52e2816",
   "metadata": {},
   "outputs": [
    {
     "name": "stdout",
     "output_type": "stream",
     "text": [
      "0     8\n",
      "1    22\n",
      "2    12\n",
      "3    44\n",
      "dtype: int64\n"
     ]
    }
   ],
   "source": [
    "'''\n",
    "Ele imprime por padrão 3 informações: índicies, valores e o tipo dos dados;\n",
    "\n",
    "'''\n",
    "print(series_1)"
   ]
  },
  {
   "cell_type": "code",
   "execution_count": 4,
   "id": "a57bf568",
   "metadata": {},
   "outputs": [
    {
     "data": {
      "text/plain": [
       "pandas.core.series.Series"
      ]
     },
     "execution_count": 4,
     "metadata": {},
     "output_type": "execute_result"
    }
   ],
   "source": [
    "#Impriem o tipo dos dados armezanedo na variavel,\n",
    "#comprovando que é do tipo Series da biblioteca pandas\n",
    "\n",
    "type(series_1)"
   ]
  },
  {
   "cell_type": "code",
   "execution_count": 5,
   "id": "0fa607c7",
   "metadata": {},
   "outputs": [
    {
     "name": "stdout",
     "output_type": "stream",
     "text": [
      "int64\n"
     ]
    }
   ],
   "source": [
    "#Imprimindo o tipo dos dados armezenados na Series\n",
    "print(series_1.dtypes)"
   ]
  },
  {
   "cell_type": "code",
   "execution_count": 6,
   "id": "ecf28395",
   "metadata": {},
   "outputs": [
    {
     "name": "stdout",
     "output_type": "stream",
     "text": [
      "[ 8 22 12 44]\n"
     ]
    }
   ],
   "source": [
    "#Imprimendo os valores da Series\n",
    "print(series_1.values)"
   ]
  },
  {
   "cell_type": "code",
   "execution_count": 12,
   "id": "e0382da1",
   "metadata": {},
   "outputs": [
    {
     "name": "stdout",
     "output_type": "stream",
     "text": [
      "RangeIndex(start=0, stop=4, step=1)\n"
     ]
    }
   ],
   "source": [
    "#Imprimindo os índices da Series (ele imprime a função que criou)\n",
    "print(series_1.index)"
   ]
  },
  {
   "cell_type": "code",
   "execution_count": 13,
   "id": "df5ebe3a",
   "metadata": {},
   "outputs": [],
   "source": [
    "'''\n",
    "Para definir manualmente os índices, se uyiliza o\n",
    "argumento nomeado 'index' dentro da função Series\n",
    "'''\n",
    "series_2 = pd.Series([8, 22, 12, 1], index=['a','b','c','d'])"
   ]
  },
  {
   "cell_type": "code",
   "execution_count": 14,
   "id": "5452b596",
   "metadata": {},
   "outputs": [
    {
     "name": "stdout",
     "output_type": "stream",
     "text": [
      "a     8\n",
      "b    22\n",
      "c    12\n",
      "d     1\n",
      "dtype: int64\n"
     ]
    }
   ],
   "source": [
    "print(series_2)"
   ]
  },
  {
   "cell_type": "code",
   "execution_count": null,
   "id": "3a893ef6",
   "metadata": {},
   "outputs": [],
   "source": []
  }
 ],
 "metadata": {
  "kernelspec": {
   "display_name": "Python 3 (ipykernel)",
   "language": "python",
   "name": "python3"
  },
  "language_info": {
   "codemirror_mode": {
    "name": "ipython",
    "version": 3
   },
   "file_extension": ".py",
   "mimetype": "text/x-python",
   "name": "python",
   "nbconvert_exporter": "python",
   "pygments_lexer": "ipython3",
   "version": "3.10.4"
  }
 },
 "nbformat": 4,
 "nbformat_minor": 5
}
