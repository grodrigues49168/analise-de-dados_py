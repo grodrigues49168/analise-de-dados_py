{
 "cells": [
  {
   "cell_type": "code",
   "execution_count": 3,
   "id": "e6afee43",
   "metadata": {},
   "outputs": [
    {
     "name": "stdout",
     "output_type": "stream",
     "text": [
      "Digite sua altura em metros: 1.85\n",
      "Digite seu peso em Kg: 100\n"
     ]
    },
    {
     "ename": "NameError",
     "evalue": "name 'text' is not defined",
     "output_type": "error",
     "traceback": [
      "\u001b[1;31m---------------------------------------------------------------------------\u001b[0m",
      "\u001b[1;31mNameError\u001b[0m                                 Traceback (most recent call last)",
      "Cell \u001b[1;32mIn [3], line 3\u001b[0m\n\u001b[0;32m      1\u001b[0m altura \u001b[38;5;241m=\u001b[39m \u001b[38;5;28mfloat\u001b[39m(\u001b[38;5;28minput\u001b[39m(\u001b[38;5;124m\"\u001b[39m\u001b[38;5;124mDigite sua altura em metros: \u001b[39m\u001b[38;5;124m\"\u001b[39m))\n\u001b[0;32m      2\u001b[0m peso \u001b[38;5;241m=\u001b[39m \u001b[38;5;28mfloat\u001b[39m(\u001b[38;5;28minput\u001b[39m(\u001b[38;5;124m\"\u001b[39m\u001b[38;5;124mDigite seu peso em Kg: \u001b[39m\u001b[38;5;124m\"\u001b[39m))\n\u001b[1;32m----> 3\u001b[0m sexo \u001b[38;5;241m=\u001b[39m \u001b[43mtext\u001b[49m(\u001b[38;5;28minput\u001b[39m(\u001b[38;5;124m\"\u001b[39m\u001b[38;5;124mDigite M para masculino e F para feminino \u001b[39m\u001b[38;5;124m\"\u001b[39m ))\n\u001b[0;32m      6\u001b[0m imc \u001b[38;5;241m=\u001b[39m peso \u001b[38;5;241m/\u001b[39m altura\u001b[38;5;241m*\u001b[39m\u001b[38;5;241m*\u001b[39m\u001b[38;5;241m2\u001b[39m\n\u001b[0;32m      8\u001b[0m \u001b[38;5;28mprint\u001b[39m(\u001b[38;5;124m\"\u001b[39m\u001b[38;5;124mSeu IMC é: \u001b[39m\u001b[38;5;132;01m%.4f\u001b[39;00m\u001b[38;5;124m\"\u001b[39m \u001b[38;5;241m%\u001b[39m imc)\n",
      "\u001b[1;31mNameError\u001b[0m: name 'text' is not defined"
     ]
    }
   ],
   "source": [
    "\n",
    "\n"
   ]
  },
  {
   "cell_type": "code",
   "execution_count": null,
   "id": "4d17a9ae",
   "metadata": {},
   "outputs": [],
   "source": [
    "altura = float(input(\"Digite sua altura em metros: \"))\n",
    "peso = float(input(\"Digite seu peso em Kg: \"))\n",
    "sexo = text(input(\"Digite M para masculino e F para feminino \" ))\n",
    "\n",
    " \n",
    "imc = peso / altura**2\n",
    " \n",
    "print(\"Seu IMC é: %.4f\" % imc)\n",
    " \n",
    "if sexo == 'M':\n",
    "        if con < 20.7:\n",
    "            return 'Abaixo do peso.'\n",
    "        elif 20.7 <= con < 26.4:\n",
    "            return 'No Peso Normal.'\n",
    "        elif 26.4 <= con < 27.8:\n",
    "            return 'marginalmente acima do peso.'\n",
    "        elif 27.8 <= con < 31.1:\n",
    "            return 'acima do peso.'\n",
    "        else:\n",
    "            return 'Obeso'\n",
    "        \n",
    "if sexo == 'F':\n",
    "        if con < 19.1:\n",
    "            return 'Abaixo do peso.'\n",
    "        elif 19.1 <= con < 25.8:\n",
    "            return 'No Peso Normal.'\n",
    "        elif 25.8 <= con < 27.3:\n",
    "            return 'marginalmente acima do peso.'\n",
    "        elif 27.3 <= con < 32.3:\n",
    "            return 'acima do peso.'\n",
    "        else:\n",
    "            return 'Obeso'"
   ]
  },
  {
   "cell_type": "code",
   "execution_count": null,
   "id": "5cfe03c5",
   "metadata": {},
   "outputs": [],
   "source": []
  }
 ],
 "metadata": {
  "kernelspec": {
   "display_name": "Python 3.10.4 ('aula': venv)",
   "language": "python",
   "name": "python3"
  },
  "language_info": {
   "codemirror_mode": {
    "name": "ipython",
    "version": 3
   },
   "file_extension": ".py",
   "mimetype": "text/x-python",
   "name": "python",
   "nbconvert_exporter": "python",
   "pygments_lexer": "ipython3",
   "version": "3.10.4"
  },
  "vscode": {
   "interpreter": {
    "hash": "0a6f9fb457b4cf5c0cfbde8ae12f531fe47248be6e79cba64437ad4888f0fe7a"
   }
  }
 },
 "nbformat": 4,
 "nbformat_minor": 5
}
