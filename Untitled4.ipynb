{
 "cells": [
  {
   "cell_type": "code",
   "execution_count": 3,
   "id": "c1967f0b",
   "metadata": {},
   "outputs": [
    {
     "name": "stdout",
     "output_type": "stream",
     "text": [
      "digite a nota 1: 6\n",
      "digite a nota 2: 6\n",
      "digite a nota 3: 6\n",
      "digite a nota 4: 6\n",
      "digite a nota 5: 6\n",
      "esta media aritimética:  6.0\n"
     ]
    }
   ],
   "source": [
    "nota1 = float(input(\"digite a nota 1: \"))\n",
    "nota2 = float(input(\"digite a nota 2: \"))\n",
    "nota3 = float(input(\"digite a nota 3: \"))\n",
    "nota4 = float(input(\"digite a nota 4: \"))\n",
    "nota5 = float(input(\"digite a nota 5: \"))\n",
    "\n",
    "media = (nota1+nota2+nota3+nota4+nota5)/5\n",
    "\n",
    "print(\"esta media aritimética: \",media)\n"
   ]
  },
  {
   "cell_type": "code",
   "execution_count": null,
   "id": "7b900f79",
   "metadata": {},
   "outputs": [],
   "source": []
  },
  {
   "cell_type": "code",
   "execution_count": null,
   "id": "bc1b18c9",
   "metadata": {},
   "outputs": [],
   "source": []
  }
 ],
 "metadata": {
  "kernelspec": {
   "display_name": "Python 3 (ipykernel)",
   "language": "python",
   "name": "python3"
  },
  "language_info": {
   "codemirror_mode": {
    "name": "ipython",
    "version": 3
   },
   "file_extension": ".py",
   "mimetype": "text/x-python",
   "name": "python",
   "nbconvert_exporter": "python",
   "pygments_lexer": "ipython3",
   "version": "3.10.4"
  }
 },
 "nbformat": 4,
 "nbformat_minor": 5
}
