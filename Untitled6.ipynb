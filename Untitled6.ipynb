{
 "cells": [
  {
   "cell_type": "code",
   "execution_count": null,
   "id": "259ad01a",
   "metadata": {},
   "outputs": [],
   "source": [
    "nota1 = float(input(\"digite a nota 1: \"))\n",
    "nota2 = float(input(\"digite a nota 2: \"))\n",
    "nota3 = float(input(\"digite a nota 3: \"))\n",
    "nota4 = float(input(\"digite a nota 4: \"))\n",
    "\n",
    "\n",
    "media = (nota1*2+nota2*3+nota3*4+nota4*5)/4\n",
    "\n",
    "print(\"esta media aritimética: \",media)\n"
   ]
  },
  {
   "cell_type": "code",
   "execution_count": null,
   "id": "ca109a29",
   "metadata": {},
   "outputs": [],
   "source": []
  }
 ],
 "metadata": {
  "kernelspec": {
   "display_name": "Python 3 (ipykernel)",
   "language": "python",
   "name": "python3"
  },
  "language_info": {
   "codemirror_mode": {
    "name": "ipython",
    "version": 3
   },
   "file_extension": ".py",
   "mimetype": "text/x-python",
   "name": "python",
   "nbconvert_exporter": "python",
   "pygments_lexer": "ipython3",
   "version": "3.10.4"
  }
 },
 "nbformat": 4,
 "nbformat_minor": 5
}
