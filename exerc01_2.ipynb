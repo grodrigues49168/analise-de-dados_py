{
 "cells": [
  {
   "cell_type": "code",
   "execution_count": null,
   "id": "c843d382",
   "metadata": {},
   "outputs": [],
   "source": [
    "nota1 = float(input(\"digite a nota 1: \"))\n",
    "nota2 = float(input(\"digite a nota 2: \"))\n",
    "nota3 = float(input(\"digite a nota 3: \"))\n",
    "nota4 = float(input(\"digite a nota 4: \"))\n",
    "\n",
    "\n",
    "media = (nota1*2+nota2*3+nota3*4+nota4*5+)/4\n",
    "\n",
    "print(\"esta media aritimética: \",media)\n"
   ]
  }
 ],
 "metadata": {
  "kernelspec": {
   "display_name": "Python 3.10.4 ('aula': venv)",
   "language": "python",
   "name": "python3"
  },
  "language_info": {
   "codemirror_mode": {
    "name": "ipython",
    "version": 3
   },
   "file_extension": ".py",
   "mimetype": "text/x-python",
   "name": "python",
   "nbconvert_exporter": "python",
   "pygments_lexer": "ipython3",
   "version": "3.10.4"
  },
  "vscode": {
   "interpreter": {
    "hash": "0a6f9fb457b4cf5c0cfbde8ae12f531fe47248be6e79cba64437ad4888f0fe7a"
   }
  }
 },
 "nbformat": 4,
 "nbformat_minor": 5
}
