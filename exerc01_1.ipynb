{
 "cells": [
  {
   "cell_type": "code",
   "execution_count": 3,
   "id": "fbefafaf",
   "metadata": {},
   "outputs": [
    {
     "name": "stdout",
     "output_type": "stream",
     "text": [
      "digite a nota 1: 6\n",
      "digite a nota 2: 6\n",
      "digite a nota 3: 6\n",
      "digite a nota 4: 6\n",
      "digite a nota 5: 6\n",
      "esta media aritimética:  6.0\n"
     ]
    }
   ],
   "source": [
    "nota1 = float(input(\"digite a nota 1: \"))\n",
    "nota2 = float(input(\"digite a nota 2: \"))\n",
    "nota3 = float(input(\"digite a nota 3: \"))\n",
    "nota4 = float(input(\"digite a nota 4: \"))\n",
    "nota5 = float(input(\"digite a nota 5: \"))\n",
    "\n",
    "media = (nota1+nota2+nota3+nota4+nota5)/5\n",
    "\n",
    "print(\"esta media aritimética: \",media)\n"
   ]
  },
  {
   "cell_type": "code",
   "execution_count": null,
   "id": "58eb01d3",
   "metadata": {},
   "outputs": [],
   "source": []
  },
  {
   "cell_type": "code",
   "execution_count": null,
   "id": "c9114b45",
   "metadata": {},
   "outputs": [],
   "source": []
  }
 ],
 "metadata": {
  "kernelspec": {
   "display_name": "Python 3.10.4 ('aula': venv)",
   "language": "python",
   "name": "python3"
  },
  "language_info": {
   "codemirror_mode": {
    "name": "ipython",
    "version": 3
   },
   "file_extension": ".py",
   "mimetype": "text/x-python",
   "name": "python",
   "nbconvert_exporter": "python",
   "pygments_lexer": "ipython3",
   "version": "3.10.4"
  },
  "vscode": {
   "interpreter": {
    "hash": "0a6f9fb457b4cf5c0cfbde8ae12f531fe47248be6e79cba64437ad4888f0fe7a"
   }
  }
 },
 "nbformat": 4,
 "nbformat_minor": 5
}
