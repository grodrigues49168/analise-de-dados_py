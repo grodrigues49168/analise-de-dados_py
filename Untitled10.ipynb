{
 "cells": [
  {
   "cell_type": "markdown",
   "id": "50ee7aaa",
   "metadata": {},
   "source": [
    "# Pandas"
   ]
  },
  {
   "cell_type": "markdown",
   "id": "f2c588bd",
   "metadata": {},
   "source": [
    "A biblioteca pandas prepara/organiza os dados\n",
    "Estes processos é chamado também de Data Muning\n",
    "Tem uma boa integração com o Numpy\n",
    "\n",
    "dois conceitos principais: \n",
    "\n",
    "- Series\n",
    "- DataFrames\n",
    "\n",
    "Site oficial: https://pandas.pydata.org/\n",
    "\n",
    "Comando para Instalação: pip install pandas"
   ]
  },
  {
   "cell_type": "code",
   "execution_count": 1,
   "id": "9e5e8d8a",
   "metadata": {},
   "outputs": [],
   "source": [
    "#importando a biblioteca Pandas\n",
    "import pandas as pd"
   ]
  },
  {
   "cell_type": "markdown",
   "id": "7e296927",
   "metadata": {},
   "source": [
    "# Series"
   ]
  },
  {
   "cell_type": "markdown",
   "id": "573b48dd",
   "metadata": {},
   "source": [
    "Series são arrays unidimensionais que contém uma lista de dados e\n",
    "outra lista de indicies "
   ]
  },
  {
   "cell_type": "code",
   "execution_count": 5,
   "id": "a3283e21",
   "metadata": {},
   "outputs": [
    {
     "name": "stdout",
     "output_type": "stream",
     "text": [
      "0    14\n",
      "1    10\n",
      "2     4\n",
      "3     1\n",
      "dtype: int64\n"
     ]
    }
   ],
   "source": [
    "series_1 = pd.Series([14, 10, 4, 1])\n",
    "print(series_1)"
   ]
  },
  {
   "cell_type": "code",
   "execution_count": 6,
   "id": "7530dcb2",
   "metadata": {},
   "outputs": [
    {
     "name": "stdout",
     "output_type": "stream",
     "text": [
      "a    14\n",
      "b    10\n",
      "c     4\n",
      "d     1\n",
      "dtype: int64\n"
     ]
    }
   ],
   "source": [
    "#Criação de Series definindo os índicies \n",
    "series_2 = pd.Series([14, 10, 4, 1], index=['a', 'b', 'c', 'd'])\n",
    "print(series_2)"
   ]
  },
  {
   "cell_type": "code",
   "execution_count": 7,
   "id": "cd5a09ba",
   "metadata": {},
   "outputs": [
    {
     "name": "stdout",
     "output_type": "stream",
     "text": [
      "[14 10  4  1]\n"
     ]
    }
   ],
   "source": [
    "#Retorna apenas os valores da Series\n",
    "print(series_2.values)"
   ]
  },
  {
   "cell_type": "code",
   "execution_count": 8,
   "id": "d9630184",
   "metadata": {},
   "outputs": [
    {
     "name": "stdout",
     "output_type": "stream",
     "text": [
      "Index(['a', 'b', 'c', 'd'], dtype='object')\n"
     ]
    }
   ],
   "source": [
    "#Retorna apenas os índicies da Series\n",
    "print(series_2.index)"
   ]
  },
  {
   "cell_type": "code",
   "execution_count": 9,
   "id": "bc02e7a5",
   "metadata": {},
   "outputs": [
    {
     "name": "stdout",
     "output_type": "stream",
     "text": [
      "10\n"
     ]
    }
   ],
   "source": [
    "#retorna o valor correspondente ao indice 'b'\n",
    "print(series_2['b'])"
   ]
  },
  {
   "cell_type": "code",
   "execution_count": 10,
   "id": "635fd695",
   "metadata": {},
   "outputs": [
    {
     "name": "stdout",
     "output_type": "stream",
     "text": [
      "a    14\n",
      "b    10\n",
      "dtype: int64\n"
     ]
    }
   ],
   "source": [
    "#Retorna uma series contando \n",
    "print(series_2[series_2>5])"
   ]
  },
  {
   "cell_type": "code",
   "execution_count": 11,
   "id": "b5a4fc85",
   "metadata": {},
   "outputs": [
    {
     "name": "stdout",
     "output_type": "stream",
     "text": [
      "a    14\n",
      "b    10\n",
      "c     4\n",
      "d     1\n",
      "dtype: int64\n"
     ]
    }
   ],
   "source": [
    "#Criando uma series através de diciónario\n",
    "dicionario_1 = {'a':14, 'b':10, 'c':4, 'd':1}\n",
    "series_3 = pd.Series(dicionario_1)\n",
    "print(series_3)"
   ]
  },
  {
   "cell_type": "code",
   "execution_count": 13,
   "id": "146a8771",
   "metadata": {},
   "outputs": [
    {
     "name": "stdout",
     "output_type": "stream",
     "text": [
      "a    14.0\n",
      "b    10.0\n",
      "c     4.0\n",
      "d     1.0\n",
      "e     NaN\n",
      "dtype: float64\n"
     ]
    }
   ],
   "source": [
    "#Alteração o series_3 para um novo series com um indice a mais\n",
    "#neste, caso não passui valor correspondente a este indice (NaN - Not a Number)\n",
    "series_4 = pd.Series(series_3, index=['a', 'b', 'c', 'd', 'e'])\n",
    "print(series_4)"
   ]
  },
  {
   "cell_type": "code",
   "execution_count": 14,
   "id": "5ee07909",
   "metadata": {},
   "outputs": [
    {
     "name": "stdout",
     "output_type": "stream",
     "text": [
      "a    False\n",
      "b    False\n",
      "c    False\n",
      "d    False\n",
      "e     True\n",
      "dtype: bool\n"
     ]
    }
   ],
   "source": [
    "#verifica quais posições possuem valores nulos(NaN) - retornando True neste caso\n",
    "print(pd.isnull(series_4))"
   ]
  },
  {
   "cell_type": "code",
   "execution_count": 15,
   "id": "6f50aa9f",
   "metadata": {},
   "outputs": [
    {
     "name": "stdout",
     "output_type": "stream",
     "text": [
      "a     True\n",
      "b     True\n",
      "c     True\n",
      "d     True\n",
      "e    False\n",
      "dtype: bool\n"
     ]
    }
   ],
   "source": [
    "#verifica quais posições possuem valores que não nulos- retornando True neste caso\n",
    "print(pd.notnull(series_4))"
   ]
  },
  {
   "cell_type": "code",
   "execution_count": 16,
   "id": "4182150f",
   "metadata": {},
   "outputs": [
    {
     "name": "stdout",
     "output_type": "stream",
     "text": [
      "a    14.0\n",
      "b    10.0\n",
      "c     4.0\n",
      "d     1.0\n",
      "e     NaN\n",
      "Name: Aula, dtype: float64\n"
     ]
    }
   ],
   "source": [
    "#nomeando uma Series\n",
    "series_4.name = 'Aula'\n",
    "print(series_4)"
   ]
  },
  {
   "cell_type": "markdown",
   "id": "9448a80f",
   "metadata": {},
   "source": [
    "# Dataframe"
   ]
  },
  {
   "cell_type": "markdown",
   "id": "cc99956e",
   "metadata": {},
   "source": [
    "- Estrutura semelhante a uma planilha do Excel\n",
    "- Possui colunas e linhas"
   ]
  },
  {
   "cell_type": "code",
   "execution_count": 20,
   "id": "da37e3f1",
   "metadata": {},
   "outputs": [],
   "source": [
    "dicionario_2 = {\n",
    "    'Dias': ['Segunda', 'Terça', 'Quarta'],\n",
    "    '7h': ['POO', 'BD', 'Algoritimos'],\n",
    "    '8h': ['Análise', 'Back end', 'Front end']\n",
    "}"
   ]
  },
  {
   "cell_type": "code",
   "execution_count": 21,
   "id": "dc40fc1b",
   "metadata": {},
   "outputs": [
    {
     "name": "stdout",
     "output_type": "stream",
     "text": [
      "      Dias           7h         8h\n",
      "0  Segunda          POO    Análise\n",
      "1    Terça           BD   Back end\n",
      "2   Quarta  Algoritimos  Front end\n"
     ]
    }
   ],
   "source": [
    "dataframe_1 = pd.DataFrame(dicionario_2)\n",
    "print(dataframe_1)"
   ]
  },
  {
   "cell_type": "code",
   "execution_count": 23,
   "id": "3da08850",
   "metadata": {},
   "outputs": [
    {
     "name": "stdout",
     "output_type": "stream",
     "text": [
      "      Dias        7h           8h\n",
      "a  Segunda     Terça       Quarta\n",
      "b      POO        BD  Algoritimos\n",
      "c  Análise  Back end    Front end\n"
     ]
    }
   ],
   "source": [
    "valores =[\n",
    "    ['Segunda', 'Terça', 'Quarta'],\n",
    "    ['POO', 'BD', 'Algoritimos'],\n",
    "    ['Análise', 'Back end', 'Front end']\n",
    "]\n",
    "\n",
    "colunas = ['Dias', '7h', '8h']\n",
    "\n",
    "indicies = ['a', 'b', 'c'] \n",
    "\n",
    "dataframe_2 = pd.DataFrame(valores, columns=colunas, index=indicies)\n",
    "print(dataframe_2)"
   ]
  },
  {
   "cell_type": "code",
   "execution_count": 5,
   "id": "c93b2218",
   "metadata": {},
   "outputs": [
    {
     "name": "stdout",
     "output_type": "stream",
     "text": [
      "                  Disciplina  CH       BD\n",
      "ALG               Algoritmos  80  Segunda\n",
      "POO  P. Orientadas a Objetos  80    Terça\n",
      "BD            Banco de dados  40   Quarta\n"
     ]
    }
   ],
   "source": [
    "colunas = ['Disciplina', 'CH', 'BD']\n",
    "\n",
    "valores = [\n",
    "    ['Algoritmos', 80, 'Segunda'],\n",
    "    ['P. Orientadas a Objetos', 80, 'Terça'],\n",
    "    ['Banco de dados', 40, 'Quarta']\n",
    "]\n",
    "indices = ['ALG', 'POO', 'BD']\n",
    "\n",
    "dataframe_3 = pd.DataFrame(valores, columns=colunas, index=indices)\n",
    "print(dataframe_3)"
   ]
  },
  {
   "cell_type": "code",
   "execution_count": 6,
   "id": "3ae49638",
   "metadata": {},
   "outputs": [
    {
     "data": {
      "text/html": [
       "<div>\n",
       "<style scoped>\n",
       "    .dataframe tbody tr th:only-of-type {\n",
       "        vertical-align: middle;\n",
       "    }\n",
       "\n",
       "    .dataframe tbody tr th {\n",
       "        vertical-align: top;\n",
       "    }\n",
       "\n",
       "    .dataframe thead th {\n",
       "        text-align: right;\n",
       "    }\n",
       "</style>\n",
       "<table border=\"1\" class=\"dataframe\">\n",
       "  <thead>\n",
       "    <tr style=\"text-align: right;\">\n",
       "      <th></th>\n",
       "      <th>Disciplina</th>\n",
       "      <th>CH</th>\n",
       "      <th>BD</th>\n",
       "    </tr>\n",
       "  </thead>\n",
       "  <tbody>\n",
       "    <tr>\n",
       "      <th>ALG</th>\n",
       "      <td>Algoritmos</td>\n",
       "      <td>120</td>\n",
       "      <td>Segunda</td>\n",
       "    </tr>\n",
       "    <tr>\n",
       "      <th>POO</th>\n",
       "      <td>P. Orientadas a Objetos</td>\n",
       "      <td>120</td>\n",
       "      <td>Terça</td>\n",
       "    </tr>\n",
       "    <tr>\n",
       "      <th>BD</th>\n",
       "      <td>Banco de dados</td>\n",
       "      <td>80</td>\n",
       "      <td>Quarta</td>\n",
       "    </tr>\n",
       "  </tbody>\n",
       "</table>\n",
       "</div>"
      ],
      "text/plain": [
       "                  Disciplina   CH       BD\n",
       "ALG               Algoritmos  120  Segunda\n",
       "POO  P. Orientadas a Objetos  120    Terça\n",
       "BD            Banco de dados   80   Quarta"
      ]
     },
     "execution_count": 6,
     "metadata": {},
     "output_type": "execute_result"
    }
   ],
   "source": [
    "novas_ch = [120, 120, 80]\n",
    "dataframe_3['CH'] = novas_ch\n",
    "\n",
    "dataframe_3"
   ]
  },
  {
   "cell_type": "code",
   "execution_count": null,
   "id": "458389fb",
   "metadata": {},
   "outputs": [],
   "source": [
    "'''\n",
    "O slicing por padrão funciona por linha. No exeplo a segiur,\n",
    "imprime as duas primeiras linhas.\n",
    "'''\n",
    "print(dataframe_3[0:2])"
   ]
  },
  {
   "cell_type": "code",
   "execution_count": 7,
   "id": "8a868061",
   "metadata": {},
   "outputs": [
    {
     "name": "stdout",
     "output_type": "stream",
     "text": [
      "         Disciplina   CH       BD\n",
      "ALG      Algoritmos  120  Segunda\n",
      "BD   Banco de dados   80   Quarta\n"
     ]
    }
   ],
   "source": [
    "#Imprime a primeira e a terceira linha\n",
    "print(dataframe_3[0:3:2])"
   ]
  },
  {
   "cell_type": "code",
   "execution_count": 8,
   "id": "2e4924ca",
   "metadata": {},
   "outputs": [
    {
     "name": "stdout",
     "output_type": "stream",
     "text": [
      "                  Disciplina   CH\n",
      "ALG               Algoritmos  120\n",
      "POO  P. Orientadas a Objetos  120\n",
      "BD            Banco de dados   80\n"
     ]
    }
   ],
   "source": [
    "print(dataframe_3.loc[:,'Disciplina':'CH'])"
   ]
  },
  {
   "cell_type": "code",
   "execution_count": null,
   "id": "77971673",
   "metadata": {},
   "outputs": [],
   "source": [
    "dataframe_3['CH'].describe()"
   ]
  }
 ],
 "metadata": {
  "kernelspec": {
   "display_name": "Python 3 (ipykernel)",
   "language": "python",
   "name": "python3"
  },
  "language_info": {
   "codemirror_mode": {
    "name": "ipython",
    "version": 3
   },
   "file_extension": ".py",
   "mimetype": "text/x-python",
   "name": "python",
   "nbconvert_exporter": "python",
   "pygments_lexer": "ipython3",
   "version": "3.10.4"
  }
 },
 "nbformat": 4,
 "nbformat_minor": 5
}
