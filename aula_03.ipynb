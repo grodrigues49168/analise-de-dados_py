{
 "cells": [
  {
   "cell_type": "code",
   "execution_count": 2,
   "id": "7f7dc406",
   "metadata": {},
   "outputs": [],
   "source": [
    "import csv"
   ]
  },
  {
   "cell_type": "code",
   "execution_count": 3,
   "id": "d6e68e31",
   "metadata": {},
   "outputs": [
    {
     "data": {
      "text/plain": [
       "10"
      ]
     },
     "execution_count": 3,
     "metadata": {},
     "output_type": "execute_result"
    }
   ],
   "source": [
    "arquivo = open('planilha.csv', 'w')\n",
    "arquivo_csv = csv.writer(arquivo) \n",
    "arquivo_csv.writerow(('primeira', 'segunda', 'terceira'))\n",
    "arquivo_csv.writerow((50, 35 ,22))\n",
    "arquivo_csv.writerow((22,13,43))\n"
   ]
  },
  {
   "cell_type": "code",
   "execution_count": null,
   "id": "03620568",
   "metadata": {},
   "outputs": [],
   "source": []
  }
 ],
 "metadata": {
  "kernelspec": {
   "display_name": "Python 3 (ipykernel)",
   "language": "python",
   "name": "python3"
  },
  "language_info": {
   "codemirror_mode": {
    "name": "ipython",
    "version": 3
   },
   "file_extension": ".py",
   "mimetype": "text/x-python",
   "name": "python",
   "nbconvert_exporter": "python",
   "pygments_lexer": "ipython3",
   "version": "3.10.4"
  }
 },
 "nbformat": 4,
 "nbformat_minor": 5
}
