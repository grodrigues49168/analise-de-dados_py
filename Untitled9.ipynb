{
 "cells": [
  {
   "cell_type": "markdown",
   "id": "a8c65332",
   "metadata": {},
   "source": [
    "# Pandas"
   ]
  },
  {
   "cell_type": "markdown",
   "id": "8ef49f9a",
   "metadata": {},
   "source": [
    "site Oficial: https://pandas.pydata.org/\n",
    "\n",
    "comando para instalar: pip install pandas\n",
    "\n",
    " - De forma geral, a biblioteca pandas prepara os dados para analise;\n",
    " - Coverte os daos de um estado \"bruto\" para um estado que permita a análise;\n",
    " - Este processo se chama Data Minig;\n",
    " - Este é o proceeso mais trabalhoso antes da análise;\n",
    " - Tem uma excelente integração com a biblioteca NyumPy e outras;\n",
    " \n",
    " Trabalha Principalmente com 2 conceitos:\n",
    " - Series\n",
    " - Dataframe"
   ]
  },
  {
   "cell_type": "code",
   "execution_count": null,
   "id": "cbd26195",
   "metadata": {},
   "outputs": [],
   "source": [
    "#importando a biblioteca Pandas\n",
    "import pandas as pd"
   ]
  },
  {
   "cell_type": "code",
   "execution_count": null,
   "id": "b136d751",
   "metadata": {},
   "outputs": [],
   "source": []
  }
 ],
 "metadata": {
  "kernelspec": {
   "display_name": "Python 3 (ipykernel)",
   "language": "python",
   "name": "python3"
  },
  "language_info": {
   "codemirror_mode": {
    "name": "ipython",
    "version": 3
   },
   "file_extension": ".py",
   "mimetype": "text/x-python",
   "name": "python",
   "nbconvert_exporter": "python",
   "pygments_lexer": "ipython3",
   "version": "3.10.4"
  }
 },
 "nbformat": 4,
 "nbformat_minor": 5
}
