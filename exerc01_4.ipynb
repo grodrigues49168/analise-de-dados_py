{
 "cells": [
  {
   "cell_type": "code",
   "execution_count": 4,
   "id": "e8ced167",
   "metadata": {},
   "outputs": [],
   "source": [
    "\n",
    "from cgitb import text\n"
   ]
  },
  {
   "cell_type": "code",
   "execution_count": 5,
   "id": "10ce325d",
   "metadata": {},
   "outputs": [
    {
     "name": "stdout",
     "output_type": "stream",
     "text": [
      "Digite sua altura em metros: 1.85\n",
      "Digite seu peso em Kg: 100\n",
      "Digite M para masculino e F para feminino M\n"
     ]
    },
    {
     "ename": "ValueError",
     "evalue": "not enough values to unpack (expected 3, got 1)",
     "output_type": "error",
     "traceback": [
      "\u001b[1;31m---------------------------------------------------------------------------\u001b[0m",
      "\u001b[1;31mValueError\u001b[0m                                Traceback (most recent call last)",
      "Cell \u001b[1;32mIn [5], line 3\u001b[0m\n\u001b[0;32m      1\u001b[0m altura \u001b[38;5;241m=\u001b[39m \u001b[38;5;28mfloat\u001b[39m(\u001b[38;5;28minput\u001b[39m(\u001b[38;5;124m\"\u001b[39m\u001b[38;5;124mDigite sua altura em metros: \u001b[39m\u001b[38;5;124m\"\u001b[39m))\n\u001b[0;32m      2\u001b[0m peso \u001b[38;5;241m=\u001b[39m \u001b[38;5;28mfloat\u001b[39m(\u001b[38;5;28minput\u001b[39m(\u001b[38;5;124m\"\u001b[39m\u001b[38;5;124mDigite seu peso em Kg: \u001b[39m\u001b[38;5;124m\"\u001b[39m))\n\u001b[1;32m----> 3\u001b[0m sexo \u001b[38;5;241m=\u001b[39m \u001b[43mtext\u001b[49m\u001b[43m(\u001b[49m\u001b[38;5;28;43minput\u001b[39;49m\u001b[43m(\u001b[49m\u001b[38;5;124;43m\"\u001b[39;49m\u001b[38;5;124;43mDigite M para masculino e F para feminino \u001b[39;49m\u001b[38;5;124;43m\"\u001b[39;49m\u001b[43m \u001b[49m\u001b[43m)\u001b[49m\u001b[43m)\u001b[49m\n\u001b[0;32m      6\u001b[0m imc \u001b[38;5;241m=\u001b[39m peso \u001b[38;5;241m/\u001b[39m altura\u001b[38;5;241m*\u001b[39m\u001b[38;5;241m*\u001b[39m\u001b[38;5;241m2\u001b[39m\n\u001b[0;32m      8\u001b[0m \u001b[38;5;28mprint\u001b[39m(\u001b[38;5;124m\"\u001b[39m\u001b[38;5;124mSeu IMC é: \u001b[39m\u001b[38;5;132;01m%.4f\u001b[39;00m\u001b[38;5;124m\"\u001b[39m \u001b[38;5;241m%\u001b[39m imc)\n",
      "File \u001b[1;32mC:\\Python310\\lib\\cgitb.py:194\u001b[0m, in \u001b[0;36mtext\u001b[1;34m(einfo, context)\u001b[0m\n\u001b[0;32m    192\u001b[0m \u001b[38;5;28;01mdef\u001b[39;00m \u001b[38;5;21mtext\u001b[39m(einfo, context\u001b[38;5;241m=\u001b[39m\u001b[38;5;241m5\u001b[39m):\n\u001b[0;32m    193\u001b[0m     \u001b[38;5;124;03m\"\"\"Return a plain text document describing a given traceback.\"\"\"\u001b[39;00m\n\u001b[1;32m--> 194\u001b[0m     etype, evalue, etb \u001b[38;5;241m=\u001b[39m einfo\n\u001b[0;32m    195\u001b[0m     \u001b[38;5;28;01mif\u001b[39;00m \u001b[38;5;28misinstance\u001b[39m(etype, \u001b[38;5;28mtype\u001b[39m):\n\u001b[0;32m    196\u001b[0m         etype \u001b[38;5;241m=\u001b[39m etype\u001b[38;5;241m.\u001b[39m\u001b[38;5;18m__name__\u001b[39m\n",
      "\u001b[1;31mValueError\u001b[0m: not enough values to unpack (expected 3, got 1)"
     ]
    }
   ],
   "source": [
    "def imc(peso, altura):\n",
    "    imc = peso/(altura*altura)\n",
    "    return imc\n",
    "\n",
    "def cond(sexo, peso, altura):\n",
    "    con = imc(peso, altura)\n",
    "\n",
    "    if sexo == 'M':\n",
    "        if con < 20.7:\n",
    "            return 'Abaixo do peso.'\n",
    "        elif 20.7 <= con < 26.4:\n",
    "            return 'No Peso Normal.'\n",
    "        elif 26.4 <= con < 27.8:\n",
    "            return 'marginalmente acima do peso.'\n",
    "        elif 27.8 <= con < 31.1:\n",
    "            return 'acima do peso.'\n",
    "        else:\n",
    "            return 'Obeso'\n",
    "\n",
    "    if sexo == 'F':\n",
    "        if con < 19.1:\n",
    "            return 'Abaixo do peso.'\n",
    "        elif 19.1 <= con < 25.8:\n",
    "            return 'No Peso Normal.'\n",
    "        elif 25.8 <= con < 27.3:\n",
    "            return 'marginalmente acima do peso.'\n",
    "        elif 27.3 <= con < 32.3:\n",
    "            return 'acima do peso.'\n",
    "        else:\n",
    "            return 'Obeso'\n",
    "\n",
    "vAlt = False\n",
    "while vAlt == False:\n",
    "    alt = input('Altura: ')\n",
    "    try:\n",
    "        alt = float(alt)\n",
    "        if alt < 1:\n",
    "            print('Digite uma altura maior que 1.00. Tente novamente.')\n",
    "        else:\n",
    "            vAlt = True\n",
    "    except:\n",
    "        print('Digite apenas valores numéricos, utilizando \".\" como separador em caso de necessidade.')\n",
    "\n",
    "vPeso = False\n",
    "while vPeso == False:\n",
    "    peso = input('Peso: ')\n",
    "    try:\n",
    "        peso = float(peso)\n",
    "        if peso <= 0:\n",
    "            print('Digite um peso acima de zero. Tente novamente.')\n",
    "        else:\n",
    "            vPeso = True\n",
    "    except:\n",
    "        print('Digite apenas valores numéricos, utilizando \".\" como separador em caso de necessidade.') \n",
    "\n",
    "sexo = input('Sexo: ').upper()\n",
    "vImc = imc(peso, alt)\n",
    "Con = cond(sexo, peso, alt)\n",
    "print('IMC: {}'.format(vImc))\n",
    "print('Condição: {}'.format(Con))\n",
    "print('Peso:{:.2f}kg\\nAltura:{:.2f}'.format(peso, alt))"
   ]
  },
  {
   "cell_type": "code",
   "execution_count": null,
   "id": "2b456e64",
   "metadata": {},
   "outputs": [],
   "source": []
  }
 ],
 "metadata": {
  "kernelspec": {
   "display_name": "Python 3.10.4 ('aula': venv)",
   "language": "python",
   "name": "python3"
  },
  "language_info": {
   "codemirror_mode": {
    "name": "ipython",
    "version": 3
   },
   "file_extension": ".py",
   "mimetype": "text/x-python",
   "name": "python",
   "nbconvert_exporter": "python",
   "pygments_lexer": "ipython3",
   "version": "3.10.4"
  },
  "vscode": {
   "interpreter": {
    "hash": "0a6f9fb457b4cf5c0cfbde8ae12f531fe47248be6e79cba64437ad4888f0fe7a"
   }
  }
 },
 "nbformat": 4,
 "nbformat_minor": 5
}
