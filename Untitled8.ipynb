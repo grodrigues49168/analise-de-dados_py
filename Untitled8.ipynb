{
 "cells": [
  {
   "cell_type": "code",
   "execution_count": null,
   "id": "0072b078",
   "metadata": {},
   "outputs": [],
   "source": [
    "\n",
    "altura = float(input(\"Digite sua altura em metros: \"))\n",
    "peso = float(input(\"Digite seu peso em Kg: \"))\n",
    "\n",
    " \n",
    "imc = peso / altura**2\n",
    " \n",
    "print(\"Seu IMC é: %.4f\" % imc)\n",
    " \n",
    "if imc < 18.5:\n",
    "\tprint(\"Abaixo do peso\")\n",
    "elif imc < 25:\n",
    "\tprint(\"Peso normal\")\n",
    "elif imc <30 :\n",
    "\tprint(\"acima do peso\")\n",
    "else:\n",
    "\tprint(\"Obeso\")\n"
   ]
  }
 ],
 "metadata": {
  "kernelspec": {
   "display_name": "Python 3 (ipykernel)",
   "language": "python",
   "name": "python3"
  },
  "language_info": {
   "codemirror_mode": {
    "name": "ipython",
    "version": 3
   },
   "file_extension": ".py",
   "mimetype": "text/x-python",
   "name": "python",
   "nbconvert_exporter": "python",
   "pygments_lexer": "ipython3",
   "version": "3.10.4"
  }
 },
 "nbformat": 4,
 "nbformat_minor": 5
}
